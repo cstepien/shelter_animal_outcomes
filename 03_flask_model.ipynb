{
 "cells": [
  {
   "cell_type": "markdown",
   "metadata": {},
   "source": [
    "## Make a pickled model using a simple model (cat or dog, intake health status, intake age)"
   ]
  },
  {
   "cell_type": "code",
   "execution_count": 4,
   "metadata": {},
   "outputs": [
    {
     "name": "stderr",
     "output_type": "stream",
     "text": [
      "/Users/courtney/anaconda3/lib/python3.6/site-packages/sklearn/cross_validation.py:41: DeprecationWarning: This module was deprecated in version 0.18 in favor of the model_selection module into which all the refactored classes and functions are moved. Also note that the interface of the new CV iterators are different from that of this module. This module will be removed in 0.20.\n",
      "  \"This module will be removed in 0.20.\", DeprecationWarning)\n",
      "/Users/courtney/anaconda3/lib/python3.6/site-packages/sklearn/learning_curve.py:22: DeprecationWarning: This module was deprecated in version 0.18 in favor of the model_selection module into which all the functions are moved. This module will be removed in 0.20\n",
      "  DeprecationWarning)\n"
     ]
    }
   ],
   "source": [
    "import pandas as pd\n",
    "import numpy as np\n",
    "import matplotlib.pyplot as plt\n",
    "import seaborn as sns\n",
    "import pickle\n",
    "\n",
    "from sklearn.cross_validation import train_test_split\n",
    "from sklearn.neighbors import KNeighborsClassifier\n",
    "from sklearn.metrics import accuracy_score\n",
    "from sklearn.learning_curve import learning_curve\n",
    "from sklearn.linear_model import LogisticRegression\n",
    "from sklearn.naive_bayes import GaussianNB\n",
    "from sklearn.svm import SVC\n",
    "from sklearn.tree import DecisionTreeClassifier\n",
    "from sklearn.ensemble import RandomForestClassifier\n",
    "from sklearn.cross_validation import cross_val_score\n",
    "from sklearn.metrics import precision_score\n",
    "from sklearn.metrics import f1_score\n",
    "from sklearn.metrics import recall_score\n",
    "from sklearn.metrics import roc_auc_score, roc_curve\n",
    "from sklearn.linear_model import LogisticRegression"
   ]
  },
  {
   "cell_type": "code",
   "execution_count": 5,
   "metadata": {},
   "outputs": [],
   "source": [
    "df = pd.read_csv('aac_intakes_outcomes.csv')"
   ]
  },
  {
   "cell_type": "code",
   "execution_count": 6,
   "metadata": {},
   "outputs": [
    {
     "data": {
      "text/plain": [
       "(79672, 41)"
      ]
     },
     "execution_count": 6,
     "metadata": {},
     "output_type": "execute_result"
    }
   ],
   "source": [
    "df.shape"
   ]
  },
  {
   "cell_type": "code",
   "execution_count": 7,
   "metadata": {},
   "outputs": [
    {
     "data": {
      "text/plain": [
       "Index(['age_upon_outcome', 'animal_id_outcome', 'date_of_birth',\n",
       "       'outcome_subtype', 'outcome_type', 'sex_upon_outcome',\n",
       "       'age_upon_outcome_(days)', 'age_upon_outcome_(years)',\n",
       "       'age_upon_outcome_age_group', 'outcome_datetime', 'outcome_month',\n",
       "       'outcome_year', 'outcome_monthyear', 'outcome_weekday', 'outcome_hour',\n",
       "       'outcome_number', 'dob_year', 'dob_month', 'dob_monthyear',\n",
       "       'age_upon_intake', 'animal_id_intake', 'animal_type', 'breed', 'color',\n",
       "       'found_location', 'intake_condition', 'intake_type', 'sex_upon_intake',\n",
       "       'count', 'age_upon_intake_(days)', 'age_upon_intake_(years)',\n",
       "       'age_upon_intake_age_group', 'intake_datetime', 'intake_month',\n",
       "       'intake_year', 'intake_monthyear', 'intake_weekday', 'intake_hour',\n",
       "       'intake_number', 'time_in_shelter', 'time_in_shelter_days'],\n",
       "      dtype='object')"
      ]
     },
     "execution_count": 7,
     "metadata": {},
     "output_type": "execute_result"
    }
   ],
   "source": [
    "df.columns"
   ]
  },
  {
   "cell_type": "code",
   "execution_count": 8,
   "metadata": {},
   "outputs": [
    {
     "data": {
      "text/plain": [
       "(array([ 39987.,  14926.,   5982.,   2873.,   2154.,   1744.,   1612.,\n",
       "          1304.,   1208.,    998.]),\n",
       " array([  0.,   5.,  10.,  15.,  20.,  25.,  30.,  35.,  40.,  45.,  50.]),\n",
       " <a list of 10 Patch objects>)"
      ]
     },
     "execution_count": 8,
     "metadata": {},
     "output_type": "execute_result"
    },
    {
     "data": {
      "image/png": "[encoded data removed]",
      "text/plain": [
       "<Figure size 432x288 with 1 Axes>"
      ]
     },
     "metadata": {},
     "output_type": "display_data"
    }
   ],
   "source": [
    "x = np.linspace(0, 50, 11)\n",
    "plt.hist(df.time_in_shelter_days, bins = x)"
   ]
  },
  {
   "cell_type": "code",
   "execution_count": 9,
   "metadata": {},
   "outputs": [
    {
     "data": {
      "text/plain": [
       "2155"
      ]
     },
     "execution_count": 9,
     "metadata": {},
     "output_type": "execute_result"
    }
   ],
   "source": [
    "df.breed.value_counts().size"
   ]
  },
  {
   "cell_type": "markdown",
   "metadata": {},
   "source": [
    "Is there a linear relationship between age on intake and time in the shelter"
   ]
  },
  {
   "cell_type": "code",
   "execution_count": 10,
   "metadata": {},
   "outputs": [
    {
     "data": {
      "text/plain": [
       "<matplotlib.collections.PathCollection at 0x106102128>"
      ]
     },
     "execution_count": 10,
     "metadata": {},
     "output_type": "execute_result"
    },
    {
     "data": {
      "image/png": "[encoded data removed]",
      "text/plain": [
       "<Figure size 432x288 with 1 Axes>"
      ]
     },
     "metadata": {},
     "output_type": "display_data"
    }
   ],
   "source": [
    "plt.scatter('age_upon_intake_(years)','time_in_shelter_days', data = df, alpha = 0.2)"
   ]
  },
  {
   "cell_type": "code",
   "execution_count": 11,
   "metadata": {},
   "outputs": [],
   "source": [
    "df_continuous = df[['time_in_shelter_days','age_upon_outcome_(days)']]"
   ]
  },
  {
   "cell_type": "code",
   "execution_count": 12,
   "metadata": {},
   "outputs": [
    {
     "data": {
      "text/plain": [
       "Black/White                 8270\n",
       "Black                       6673\n",
       "Brown Tabby                 4471\n",
       "Brown                       3598\n",
       "White                       2835\n",
       "Brown/White                 2516\n",
       "Tan/White                   2462\n",
       "Brown Tabby/White           2351\n",
       "Orange Tabby                2182\n",
       "White/Black                 2172\n",
       "Blue/White                  2127\n",
       "Tricolor                    2031\n",
       "Tan                         2022\n",
       "Black/Tan                   1847\n",
       "Black/Brown                 1619\n",
       "White/Brown                 1604\n",
       "Brown Brindle/White         1374\n",
       "Brown/Black                 1367\n",
       "Tortie                      1344\n",
       "Blue                        1335\n",
       "Calico                      1333\n",
       "White/Tan                   1195\n",
       "Blue Tabby                  1136\n",
       "Orange Tabby/White          1105\n",
       "Red                         1047\n",
       "Red/White                    858\n",
       "Torbie                       845\n",
       "Brown Brindle                728\n",
       "Tan/Black                    637\n",
       "Chocolate/White              614\n",
       "                            ... \n",
       "Black Tabby/Orange             1\n",
       "Tortie/Brown                   1\n",
       "Black/Silver Tabby             1\n",
       "Red/Green                      1\n",
       "Calico/Orange                  1\n",
       "Chocolate/Brown Merle          1\n",
       "Brown Tabby/Agouti             1\n",
       "White/Green                    1\n",
       "Black Tabby/Gray               1\n",
       "Black Smoke/Blue Tick          1\n",
       "Black Smoke/Black Tiger        1\n",
       "White/Gray Tiger               1\n",
       "Buff/Cream                     1\n",
       "Black Brindle/Blue Tick        1\n",
       "Red Merle/Brown Merle          1\n",
       "White/Black Tiger              1\n",
       "Seal Point/Cream               1\n",
       "Red/Blue                       1\n",
       "Yellow/Yellow                  1\n",
       "Brown/Brown Merle              1\n",
       "Cream Tabby/Orange Tabby       1\n",
       "Silver Tabby/Black             1\n",
       "Green/Orange                   1\n",
       "White/Flame Point              1\n",
       "Blue/Silver                    1\n",
       "Blue Point/Cream               1\n",
       "Blue Merle/Brown Brindle       1\n",
       "Liver Tick/White               1\n",
       "Chocolate/Chocolate            1\n",
       "Cream/Red Tick                 1\n",
       "Name: color, Length: 529, dtype: int64"
      ]
     },
     "execution_count": 12,
     "metadata": {},
     "output_type": "execute_result"
    }
   ],
   "source": [
    "df.color.value_counts()"
   ]
  },
  {
   "cell_type": "code",
   "execution_count": 13,
   "metadata": {},
   "outputs": [
    {
     "data": {
      "text/plain": [
       "Adoption           33594\n",
       "Transfer           23799\n",
       "Return to Owner    14791\n",
       "Euthanasia          6244\n",
       "Died                 690\n",
       "Disposal             304\n",
       "Rto-Adopt            179\n",
       "Missing               46\n",
       "Relocate              15\n",
       "Name: outcome_type, dtype: int64"
      ]
     },
     "execution_count": 13,
     "metadata": {},
     "output_type": "execute_result"
    }
   ],
   "source": [
    "df.outcome_type.value_counts()"
   ]
  },
  {
   "cell_type": "code",
   "execution_count": 14,
   "metadata": {},
   "outputs": [],
   "source": [
    "mask = (df.outcome_type.isin(['Adoption', 'Transfer', 'Return to Owner', 'Euthanasia']))\n",
    "df_main_categories = df[mask]"
   ]
  },
  {
   "cell_type": "code",
   "execution_count": 15,
   "metadata": {},
   "outputs": [],
   "source": [
    "species_mask = df_main_categories.animal_type.isin(['Dog', 'Cat'])\n",
    "data = df_main_categories[species_mask]"
   ]
  },
  {
   "cell_type": "code",
   "execution_count": 16,
   "metadata": {},
   "outputs": [
    {
     "data": {
      "text/plain": [
       "Normal      66454\n",
       "Injured      3185\n",
       "Sick         2090\n",
       "Nursing      1793\n",
       "Aged          309\n",
       "Other         141\n",
       "Feral          91\n",
       "Pregnant       46\n",
       "Name: intake_condition, dtype: int64"
      ]
     },
     "execution_count": 16,
     "metadata": {},
     "output_type": "execute_result"
    }
   ],
   "source": [
    "data.intake_condition.value_counts()"
   ]
  },
  {
   "cell_type": "code",
   "execution_count": 17,
   "metadata": {},
   "outputs": [],
   "source": [
    "intake_status = pd.DataFrame(np.where(data.intake_condition == 'Normal', 0, 1))\n",
    "intake_status.columns = ['intake_status']"
   ]
  },
  {
   "cell_type": "code",
   "execution_count": 18,
   "metadata": {},
   "outputs": [],
   "source": [
    "happy = pd.DataFrame(np.where(data.outcome_type.isin(['Adoption', 'Return to Owner']), 1, 0))\n",
    "happy.columns = ['happy_outcome']"
   ]
  },
  {
   "cell_type": "code",
   "execution_count": 19,
   "metadata": {},
   "outputs": [
    {
     "data": {
      "text/plain": [
       "Dog    45053\n",
       "Cat    29056\n",
       "Name: animal_type, dtype: int64"
      ]
     },
     "execution_count": 19,
     "metadata": {},
     "output_type": "execute_result"
    }
   ],
   "source": [
    "data.animal_type.value_counts()"
   ]
  },
  {
   "cell_type": "code",
   "execution_count": 20,
   "metadata": {},
   "outputs": [],
   "source": [
    "species_dummies = pd.get_dummies(data.animal_type)"
   ]
  },
  {
   "cell_type": "code",
   "execution_count": 21,
   "metadata": {},
   "outputs": [],
   "source": [
    "data.columns = ['age_upon_outcome', 'animal_id_outcome', 'date_of_birth',\n",
    "       'outcome_subtype', 'outcome_type', 'sex_upon_outcome',\n",
    "       'age_upon_outcome_(days)', 'age_upon_outcome_(years)',\n",
    "       'age_upon_outcome_age_group', 'outcome_datetime', 'outcome_month',\n",
    "       'outcome_year', 'outcome_monthyear', 'outcome_weekday', 'outcome_hour',\n",
    "       'outcome_number', 'dob_year', 'dob_month', 'dob_monthyear',\n",
    "       'age_upon_intake', 'animal_id_intake', 'animal_type', 'breed', 'color',\n",
    "       'found_location', 'intake_condition', 'intake_type', 'sex_upon_intake',\n",
    "       'count', 'age_upon_intake_days', 'age_upon_intake_years',\n",
    "       'age_upon_intake_age_group', 'intake_datetime', 'intake_month',\n",
    "       'intake_year', 'intake_monthyear', 'intake_weekday', 'intake_hour',\n",
    "       'intake_number', 'time_in_shelter', 'time_in_shelter_days']"
   ]
  },
  {
   "cell_type": "code",
   "execution_count": 22,
   "metadata": {},
   "outputs": [],
   "source": [
    "data_basic = species_dummies.join(data.age_upon_intake_days)"
   ]
  },
  {
   "cell_type": "code",
   "execution_count": 23,
   "metadata": {},
   "outputs": [],
   "source": [
    "data_outcome = data_basic.join(intake_status)"
   ]
  },
  {
   "cell_type": "code",
   "execution_count": 24,
   "metadata": {},
   "outputs": [],
   "source": [
    "outcome = pd.get_dummies(data.outcome_type)"
   ]
  },
  {
   "cell_type": "code",
   "execution_count": 25,
   "metadata": {},
   "outputs": [],
   "source": [
    "data_model = data_outcome.join(outcome)"
   ]
  },
  {
   "cell_type": "code",
   "execution_count": 26,
   "metadata": {},
   "outputs": [],
   "source": [
    "data_log = data_model.join(happy)"
   ]
  },
  {
   "cell_type": "code",
   "execution_count": 27,
   "metadata": {},
   "outputs": [
    {
     "data": {
      "text/plain": [
       "1.0    44766\n",
       "0.0    24265\n",
       "Name: happy_outcome, dtype: int64"
      ]
     },
     "execution_count": 27,
     "metadata": {},
     "output_type": "execute_result"
    }
   ],
   "source": [
    "data_log.happy_outcome.value_counts()"
   ]
  },
  {
   "cell_type": "code",
   "execution_count": 28,
   "metadata": {},
   "outputs": [
    {
     "data": {
      "text/html": [
       "<div>\n",
       "<style scoped>\n",
       "    .dataframe tbody tr th:only-of-type {\n",
       "        vertical-align: middle;\n",
       "    }\n",
       "\n",
       "    .dataframe tbody tr th {\n",
       "        vertical-align: top;\n",
       "    }\n",
       "\n",
       "    .dataframe thead th {\n",
       "        text-align: right;\n",
       "    }\n",
       "</style>\n",
       "<table border=\"1\" class=\"dataframe\">\n",
       "  <thead>\n",
       "    <tr style=\"text-align: right;\">\n",
       "      <th></th>\n",
       "      <th>Cat</th>\n",
       "      <th>Dog</th>\n",
       "      <th>age_upon_intake_days</th>\n",
       "      <th>intake_status</th>\n",
       "      <th>Adoption</th>\n",
       "      <th>Euthanasia</th>\n",
       "      <th>Return to Owner</th>\n",
       "      <th>Transfer</th>\n",
       "      <th>happy_outcome</th>\n",
       "    </tr>\n",
       "  </thead>\n",
       "  <tbody>\n",
       "    <tr>\n",
       "      <th>0</th>\n",
       "      <td>0</td>\n",
       "      <td>1</td>\n",
       "      <td>3650</td>\n",
       "      <td>0.0</td>\n",
       "      <td>0</td>\n",
       "      <td>0</td>\n",
       "      <td>1</td>\n",
       "      <td>0</td>\n",
       "      <td>1.0</td>\n",
       "    </tr>\n",
       "    <tr>\n",
       "      <th>1</th>\n",
       "      <td>0</td>\n",
       "      <td>1</td>\n",
       "      <td>2555</td>\n",
       "      <td>0.0</td>\n",
       "      <td>0</td>\n",
       "      <td>0</td>\n",
       "      <td>1</td>\n",
       "      <td>0</td>\n",
       "      <td>1.0</td>\n",
       "    </tr>\n",
       "    <tr>\n",
       "      <th>2</th>\n",
       "      <td>0</td>\n",
       "      <td>1</td>\n",
       "      <td>2190</td>\n",
       "      <td>0.0</td>\n",
       "      <td>0</td>\n",
       "      <td>0</td>\n",
       "      <td>1</td>\n",
       "      <td>0</td>\n",
       "      <td>1.0</td>\n",
       "    </tr>\n",
       "    <tr>\n",
       "      <th>3</th>\n",
       "      <td>0</td>\n",
       "      <td>1</td>\n",
       "      <td>3650</td>\n",
       "      <td>0.0</td>\n",
       "      <td>0</td>\n",
       "      <td>0</td>\n",
       "      <td>0</td>\n",
       "      <td>1</td>\n",
       "      <td>0.0</td>\n",
       "    </tr>\n",
       "    <tr>\n",
       "      <th>4</th>\n",
       "      <td>0</td>\n",
       "      <td>1</td>\n",
       "      <td>5840</td>\n",
       "      <td>1.0</td>\n",
       "      <td>0</td>\n",
       "      <td>0</td>\n",
       "      <td>1</td>\n",
       "      <td>0</td>\n",
       "      <td>1.0</td>\n",
       "    </tr>\n",
       "  </tbody>\n",
       "</table>\n",
       "</div>"
      ],
      "text/plain": [
       "   Cat  Dog  age_upon_intake_days  intake_status  Adoption  Euthanasia  \\\n",
       "0    0    1                  3650            0.0         0           0   \n",
       "1    0    1                  2555            0.0         0           0   \n",
       "2    0    1                  2190            0.0         0           0   \n",
       "3    0    1                  3650            0.0         0           0   \n",
       "4    0    1                  5840            1.0         0           0   \n",
       "\n",
       "   Return to Owner  Transfer  happy_outcome  \n",
       "0                1         0            1.0  \n",
       "1                1         0            1.0  \n",
       "2                1         0            1.0  \n",
       "3                0         1            0.0  \n",
       "4                1         0            1.0  "
      ]
     },
     "execution_count": 28,
     "metadata": {},
     "output_type": "execute_result"
    }
   ],
   "source": [
    "data_log.head()"
   ]
  },
  {
   "cell_type": "code",
   "execution_count": 29,
   "metadata": {},
   "outputs": [],
   "source": [
    "X1 = data_model[['Cat', 'Dog', 'age_upon_intake_days']]\n",
    "y1 = data_model[['Adoption', 'Euthanasia', 'Return to Owner', 'Transfer']]\n",
    "X_train, X_test, y_train, y_test = train_test_split(X1, y1, test_size=0.30, random_state=4444)\n",
    "\n",
    "k_range = list(range(1, 21))\n",
    "k_score = []\n",
    "for k in k_range:\n",
    "    knn = KNeighborsClassifier(n_neighbors=k)\n",
    "    knn.fit(X_train, y_train)\n",
    "    y_pred = knn.predict(X_test)\n",
    "    test_score = accuracy_score(y_test, y_pred)\n",
    "    k_score.append(test_score)"
   ]
  },
  {
   "cell_type": "code",
   "execution_count": 30,
   "metadata": {},
   "outputs": [
    {
     "data": {
      "image/png": "[encoded data removed]",
      "text/plain": [
       "<Figure size 432x288 with 1 Axes>"
      ]
     },
     "metadata": {},
     "output_type": "display_data"
    }
   ],
   "source": [
    "x_ticks = np.linspace(0,20,11)\n",
    "plt.plot(k_range, k_score)\n",
    "plt.xticks(x_ticks)\n",
    "plt.xlabel('\\nValue of K for KNN')\n",
    "plt.ylabel('Test Set Accuracy\\n');"
   ]
  },
  {
   "cell_type": "code",
   "execution_count": 31,
   "metadata": {},
   "outputs": [],
   "source": [
    "data_no_na = data_log.dropna()"
   ]
  },
  {
   "cell_type": "code",
   "execution_count": 32,
   "metadata": {},
   "outputs": [],
   "source": [
    "X1 = data_no_na[['Cat', 'Dog', 'age_upon_intake_days', 'intake_status']]\n",
    "y1 = data_no_na[['Adoption', 'Euthanasia', 'Return to Owner', 'Transfer']]\n",
    "X_train, X_test, y_train, y_test = train_test_split(X1, y1, test_size=0.30, random_state=4444)\n",
    "\n",
    "k_range = list(range(1, 21))\n",
    "k_score = []\n",
    "for k in k_range:\n",
    "    knn = KNeighborsClassifier(n_neighbors=k)\n",
    "    knn.fit(X_train, y_train)\n",
    "    y_pred = knn.predict(X_test)\n",
    "    test_score = accuracy_score(y_test, y_pred)\n",
    "    k_score.append(test_score)"
   ]
  },
  {
   "cell_type": "code",
   "execution_count": 33,
   "metadata": {},
   "outputs": [
    {
     "data": {
      "image/png": "[encoded data removed]",
      "text/plain": [
       "<Figure size 432x288 with 1 Axes>"
      ]
     },
     "metadata": {},
     "output_type": "display_data"
    }
   ],
   "source": [
    "x_ticks = np.linspace(0,20,11)\n",
    "plt.plot(k_range, k_score)\n",
    "plt.xticks(x_ticks)\n",
    "plt.xlabel('\\nValue of K for KNN')\n",
    "plt.ylabel('Test Set Accuracy\\n');"
   ]
  },
  {
   "cell_type": "code",
   "execution_count": 35,
   "metadata": {},
   "outputs": [
    {
     "name": "stdout",
     "output_type": "stream",
     "text": [
      "0.671656204732\n"
     ]
    }
   ],
   "source": [
    "X1 = data_no_na[['Cat', 'Dog', 'age_upon_intake_days', 'intake_status']]\n",
    "y1 = data_no_na.happy_outcome\n",
    "X_train, X_test, y_train, y_test = train_test_split(X1, y1, test_size=0.30, random_state=4444)\n",
    "\n",
    "lm = LogisticRegression()\n",
    "lm.fit(X_train, y_train)\n",
    "y_pred = lm.predict(X_test)\n",
    "log_reg_acc = accuracy_score(y_test, y_pred)\n",
    "print(log_reg_acc)"
   ]
  },
  {
   "cell_type": "code",
   "execution_count": null,
   "metadata": {},
   "outputs": [],
   "source": [
    "print('\\nLogistic Regression Error Metrics\\n')\n",
    "print('Accuracy:', log_reg_acc)\n",
    "print('Precision:', precision_score(y_test, y_pred))\n",
    "print('F1:', f1_score(y_test, y_pred))\n",
    "print('Recall:', recall_score(y_test, y_pred))"
   ]
  },
  {
   "cell_type": "code",
   "execution_count": null,
   "metadata": {},
   "outputs": [],
   "source": [
    "pickle.dump(lm, open(\"logistic_model.p\", \"wb\"))"
   ]
  }
 ],
 "metadata": {
  "kernelspec": {
   "display_name": "Python [default]",
   "language": "python",
   "name": "python3"
  },
  "language_info": {
   "codemirror_mode": {
    "name": "ipython",
    "version": 3
   },
   "file_extension": ".py",
   "mimetype": "text/x-python",
   "name": "python",
   "nbconvert_exporter": "python",
   "pygments_lexer": "ipython3",
   "version": "3.6.5"
  }
 },
 "nbformat": 4,
 "nbformat_minor": 2
}
