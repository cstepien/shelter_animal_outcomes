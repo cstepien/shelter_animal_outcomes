{
 "cells": [
  {
   "cell_type": "markdown",
   "metadata": {},
   "source": [
    "### Import packages"
   ]
  },
  {
   "cell_type": "code",
   "execution_count": 2,
   "metadata": {},
   "outputs": [
    {
     "name": "stderr",
     "output_type": "stream",
     "text": [
      "/Users/courtney/anaconda3/lib/python3.6/site-packages/sklearn/cross_validation.py:41: DeprecationWarning: This module was deprecated in version 0.18 in favor of the model_selection module into which all the refactored classes and functions are moved. Also note that the interface of the new CV iterators are different from that of this module. This module will be removed in 0.20.\n",
      "  \"This module will be removed in 0.20.\", DeprecationWarning)\n",
      "/Users/courtney/anaconda3/lib/python3.6/site-packages/sklearn/learning_curve.py:22: DeprecationWarning: This module was deprecated in version 0.18 in favor of the model_selection module into which all the functions are moved. This module will be removed in 0.20\n",
      "  DeprecationWarning)\n"
     ]
    }
   ],
   "source": [
    "import pandas as pd\n",
    "import numpy as np\n",
    "import matplotlib.pyplot as plt\n",
    "import seaborn as sns\n",
    "import pickle\n",
    "from functools import reduce\n",
    "\n",
    "from sklearn.dummy import DummyClassifier\n",
    "from sklearn.linear_model import LogisticRegression\n",
    "from sklearn.cross_validation import train_test_split\n",
    "from sklearn.neighbors import KNeighborsClassifier\n",
    "from sklearn.metrics import accuracy_score\n",
    "from sklearn.learning_curve import learning_curve\n",
    "from sklearn.linear_model import LogisticRegression\n",
    "from sklearn.naive_bayes import GaussianNB\n",
    "from sklearn.svm import SVC\n",
    "from sklearn.tree import DecisionTreeClassifier\n",
    "from sklearn.ensemble import RandomForestClassifier\n",
    "from sklearn.cross_validation import cross_val_score\n",
    "from sklearn.metrics import precision_score\n",
    "from sklearn.metrics import f1_score\n",
    "from sklearn.metrics import recall_score\n",
    "from sklearn.metrics import roc_auc_score, roc_curve\n",
    "from sklearn.svm import LinearSVC\n",
    "from sklearn.metrics import classification_report\n",
    "from sklearn.model_selection import GridSearchCV\n",
    "import imblearn.over_sampling\n",
    "from sklearn.metrics import confusion_matrix"
   ]
  },
  {
   "cell_type": "markdown",
   "metadata": {},
   "source": [
    "### Import data "
   ]
  },
  {
   "cell_type": "code",
   "execution_count": 4,
   "metadata": {},
   "outputs": [],
   "source": [
    "outcome_df = pd.read_csv('aac_intakes_outcomes.csv')\n",
    "intake_df = pd.read_csv('aac_intakes.csv')\n",
    "popularity_df = pd.read_csv('akc_popular_breeds_2013-2016.csv')\n",
    "# if time: scrape 2017 popularity data\n",
    "intelligence_df = pd.read_csv('dog_intelligence.csv')\n",
    "# best_in_show_df = pd.read_csv('best_in_show_westminster.csv')\n",
    "# if time: get data on cost, other stuff\n",
    "# if time: group membership of dog\n",
    "# breed_size = pd.read_csv('akc_breed_info.csv')"
   ]
  },
  {
   "cell_type": "markdown",
   "metadata": {},
   "source": [
    "### Inital exploration of features "
   ]
  },
  {
   "cell_type": "markdown",
   "metadata": {},
   "source": [
    "#### Intakes dataframe "
   ]
  },
  {
   "cell_type": "code",
   "execution_count": 5,
   "metadata": {},
   "outputs": [
    {
     "data": {
      "text/plain": [
       "Index(['age_upon_intake', 'animal_id', 'animal_type', 'breed', 'color',\n",
       "       'datetime', 'datetime2', 'found_location', 'intake_condition',\n",
       "       'intake_type', 'name', 'sex_upon_intake'],\n",
       "      dtype='object')"
      ]
     },
     "execution_count": 5,
     "metadata": {},
     "output_type": "execute_result"
    }
   ],
   "source": [
    "intake_df.columns"
   ]
  },
  {
   "cell_type": "code",
   "execution_count": 6,
   "metadata": {},
   "outputs": [
    {
     "data": {
      "text/plain": [
       "24584"
      ]
     },
     "execution_count": 6,
     "metadata": {},
     "output_type": "execute_result"
    }
   ],
   "source": [
    "intake_df.name.isnull().sum()"
   ]
  },
  {
   "cell_type": "code",
   "execution_count": 7,
   "metadata": {},
   "outputs": [
    {
     "data": {
      "text/plain": [
       "1    55603\n",
       "0    24584\n",
       "Name: has_name, dtype: int64"
      ]
     },
     "execution_count": 7,
     "metadata": {},
     "output_type": "execute_result"
    }
   ],
   "source": [
    "intake_df['has_name'] = np.where(intake_df.name.isnull() == True, 0, 1)\n",
    "intake_df.has_name.value_counts()"
   ]
  },
  {
   "cell_type": "markdown",
   "metadata": {},
   "source": [
    "#### Intakes and Outcomes dataframe "
   ]
  },
  {
   "cell_type": "code",
   "execution_count": 8,
   "metadata": {},
   "outputs": [
    {
     "data": {
      "text/plain": [
       "Index(['age_upon_outcome', 'animal_id_outcome', 'date_of_birth',\n",
       "       'outcome_subtype', 'outcome_type', 'sex_upon_outcome',\n",
       "       'age_upon_outcome_(days)', 'age_upon_outcome_(years)',\n",
       "       'age_upon_outcome_age_group', 'outcome_datetime', 'outcome_month',\n",
       "       'outcome_year', 'outcome_monthyear', 'outcome_weekday', 'outcome_hour',\n",
       "       'outcome_number', 'dob_year', 'dob_month', 'dob_monthyear',\n",
       "       'age_upon_intake', 'animal_id_intake', 'animal_type', 'breed', 'color',\n",
       "       'found_location', 'intake_condition', 'intake_type', 'sex_upon_intake',\n",
       "       'count', 'age_upon_intake_(days)', 'age_upon_intake_(years)',\n",
       "       'age_upon_intake_age_group', 'intake_datetime', 'intake_month',\n",
       "       'intake_year', 'intake_monthyear', 'intake_weekday', 'intake_hour',\n",
       "       'intake_number', 'time_in_shelter', 'time_in_shelter_days'],\n",
       "      dtype='object')"
      ]
     },
     "execution_count": 8,
     "metadata": {},
     "output_type": "execute_result"
    }
   ],
   "source": [
    "outcome_df.columns"
   ]
  },
  {
   "cell_type": "code",
   "execution_count": 13,
   "metadata": {},
   "outputs": [],
   "source": [
    "yearly_animals = outcome_df.groupby(by=['animal_type', 'intake_year']).size().reset_index()\n",
    "yearly_mean = yearly_animals.groupby(by='animal_type').mean()"
   ]
  },
  {
   "cell_type": "code",
   "execution_count": 14,
   "metadata": {},
   "outputs": [
    {
     "name": "stdout",
     "output_type": "stream",
     "text": [
      "1991\n",
      "2018\n"
     ]
    }
   ],
   "source": [
    "print(outcome_df.dob_year.min())\n",
    "print(outcome_df.dob_year.max())"
   ]
  },
  {
   "cell_type": "code",
   "execution_count": 15,
   "metadata": {},
   "outputs": [
    {
     "data": {
      "text/plain": [
       "2015    18699\n",
       "2014    18645\n",
       "2016    17632\n",
       "2017    17440\n",
       "2013     4178\n",
       "2018     3078\n",
       "Name: intake_year, dtype: int64"
      ]
     },
     "execution_count": 15,
     "metadata": {},
     "output_type": "execute_result"
    }
   ],
   "source": [
    "outcome_df.intake_year.value_counts()"
   ]
  },
  {
   "cell_type": "code",
   "execution_count": 16,
   "metadata": {},
   "outputs": [
    {
     "data": {
      "text/plain": [
       "Adoption           33594\n",
       "Transfer           23799\n",
       "Return to Owner    14791\n",
       "Euthanasia          6244\n",
       "Died                 690\n",
       "Disposal             304\n",
       "Rto-Adopt            179\n",
       "Missing               46\n",
       "Relocate              15\n",
       "Name: outcome_type, dtype: int64"
      ]
     },
     "execution_count": 16,
     "metadata": {},
     "output_type": "execute_result"
    }
   ],
   "source": [
    "outcome_df.outcome_type.value_counts()"
   ]
  },
  {
   "cell_type": "code",
   "execution_count": 17,
   "metadata": {},
   "outputs": [
    {
     "data": {
      "text/plain": [
       "Dog      45366\n",
       "Cat      29539\n",
       "Other     4428\n",
       "Bird       339\n",
       "Name: animal_type, dtype: int64"
      ]
     },
     "execution_count": 17,
     "metadata": {},
     "output_type": "execute_result"
    }
   ],
   "source": [
    "outcome_df.animal_type.value_counts()"
   ]
  },
  {
   "cell_type": "code",
   "execution_count": 18,
   "metadata": {},
   "outputs": [
    {
     "data": {
      "text/plain": [
       "Stray                 55935\n",
       "Owner Surrender       15028\n",
       "Public Assist          4994\n",
       "Wildlife               3464\n",
       "Euthanasia Request      251\n",
       "Name: intake_type, dtype: int64"
      ]
     },
     "execution_count": 18,
     "metadata": {},
     "output_type": "execute_result"
    }
   ],
   "source": [
    "outcome_df.intake_type.value_counts()"
   ]
  },
  {
   "cell_type": "code",
   "execution_count": 19,
   "metadata": {},
   "outputs": [
    {
     "data": {
      "text/plain": [
       "Domestic Shorthair Mix                            23423\n",
       "Pit Bull Mix                                       6256\n",
       "Chihuahua Shorthair Mix                            4831\n",
       "Labrador Retriever Mix                             4789\n",
       "Domestic Medium Hair Mix                           2326\n",
       "German Shepherd Mix                                1950\n",
       "Bat Mix                                            1381\n",
       "Domestic Longhair Mix                              1248\n",
       "Australian Cattle Dog Mix                          1099\n",
       "Siamese Mix                                         996\n",
       "Bat                                                 827\n",
       "Dachshund Mix                                       811\n",
       "Boxer Mix                                           683\n",
       "Miniature Poodle Mix                                662\n",
       "Border Collie Mix                                   662\n",
       "Catahoula Mix                                       480\n",
       "Raccoon Mix                                         471\n",
       "Rat Terrier Mix                                     469\n",
       "Australian Shepherd Mix                             468\n",
       "Yorkshire Terrier Mix                               447\n",
       "Siberian Husky Mix                                  441\n",
       "Jack Russell Terrier Mix                            429\n",
       "Miniature Schnauzer Mix                             402\n",
       "Beagle Mix                                          392\n",
       "Domestic Shorthair                                  387\n",
       "Staffordshire Mix                                   375\n",
       "Chihuahua Longhair Mix                              371\n",
       "Great Pyrenees Mix                                  349\n",
       "Cairn Terrier Mix                                   348\n",
       "Pointer Mix                                         336\n",
       "                                                  ...  \n",
       "Unknown Mix                                           1\n",
       "Vizsla/Pointer                                        1\n",
       "Australian Cattle Dog/Golden Retriever                1\n",
       "Boxer/Akita                                           1\n",
       "Standard Poodle/Jack Russell Terrier                  1\n",
       "Great Pyrenees/Boxer                                  1\n",
       "Labrador Retriever/Akita                              1\n",
       "Queensland Heeler/Basset Hound                        1\n",
       "Chinese Crested/Chihuahua Longhair                    1\n",
       "Yorkshire Terrier/Soft Coated Wheaten Terrier         1\n",
       "Sealyham Terr Mix                                     1\n",
       "Akita/Labrador Retriever                              1\n",
       "Dachshund/Australian Kelpie                           1\n",
       "Labrador Retriever/Chihuahua Shorthair                1\n",
       "Chihuahua Longhair/Queensland Heeler                  1\n",
       "Australian Cattle Dog/Treeing Walker Coonhound        1\n",
       "English Bulldog/Australian Cattle Dog                 1\n",
       "Border Terrier/Standard Schnauzer                     1\n",
       "Pointer/Rhod Ridgeback                                1\n",
       "Leonberger/German Shepherd                            1\n",
       "Miniature Pinscher/Australian Cattle Dog              1\n",
       "Border Collie/English Springer Spaniel                1\n",
       "Chihuahua Shorthair/Shetland Sheepdog                 1\n",
       "Irish Wolfhound/Australian Shepherd                   1\n",
       "Papillon/Border Collie                                1\n",
       "Chihuahua Longhair/Miniature Poodle                   1\n",
       "Australian Shepherd/Collie Smooth                     1\n",
       "Chinese Sharpei/Basset Hound                          1\n",
       "Grand Basset Griffon Vendeen Mix                      1\n",
       "Staffordshire/Border Collie                           1\n",
       "Name: breed, Length: 2155, dtype: int64"
      ]
     },
     "execution_count": 19,
     "metadata": {},
     "output_type": "execute_result"
    }
   ],
   "source": [
    "outcome_df.breed.value_counts()"
   ]
  },
  {
   "cell_type": "markdown",
   "metadata": {},
   "source": [
    "### Clean intake and outcome data"
   ]
  },
  {
   "cell_type": "code",
   "execution_count": 20,
   "metadata": {},
   "outputs": [],
   "source": [
    "names = pd.concat([intake_df.animal_id, intake_df.has_name], axis=1)\n",
    "names.columns = ['animal_id_intake', 'has_name']"
   ]
  },
  {
   "cell_type": "code",
   "execution_count": 21,
   "metadata": {},
   "outputs": [],
   "source": [
    "outcome_df.columns = ['age_upon_outcome', 'animal_id_outcome', 'date_of_birth',\n",
    "       'outcome_subtype', 'outcome_type', 'sex_upon_outcome',\n",
    "       'age_upon_outcome_days', 'age_upon_outcome_years',\n",
    "       'age_upon_outcome_age_group', 'outcome_datetime', 'outcome_month',\n",
    "       'outcome_year', 'outcome_monthyear', 'outcome_weekday', 'outcome_hour',\n",
    "       'outcome_number', 'dob_year', 'dob_month', 'dob_monthyear',\n",
    "       'age_upon_intake', 'animal_id_intake', 'animal_type', 'breed', 'color',\n",
    "       'found_location', 'intake_condition', 'intake_type', 'sex_upon_intake',\n",
    "       'count', 'age_upon_intake_days', 'age_upon_intake_years',\n",
    "       'age_upon_intake_age_group', 'intake_datetime', 'intake_month',\n",
    "       'intake_year', 'intake_monthyear', 'intake_weekday', 'intake_hour',\n",
    "       'intake_number', 'time_in_shelter', 'time_in_shelter_days']"
   ]
  },
  {
   "cell_type": "code",
   "execution_count": 22,
   "metadata": {},
   "outputs": [
    {
     "name": "stdout",
     "output_type": "stream",
     "text": [
      "Black/White    8270\n",
      "Black          6673\n",
      "Brown Tabby    4471\n",
      "Brown          3598\n",
      "White          2835\n",
      "Name: color, dtype: int64\n"
     ]
    }
   ],
   "source": [
    "print(outcome_df.color.value_counts().head())\n",
    "threshold = 1000\n",
    "outcome_df['adjusted_color'] = outcome_df.color\n",
    "color_freq = outcome_df.color.value_counts()\n",
    "to_remove = color_freq[color_freq <= threshold].index\n",
    "outcome_df.adjusted_color.replace(to_remove, 'Other_color', inplace=True)"
   ]
  },
  {
   "cell_type": "code",
   "execution_count": 23,
   "metadata": {},
   "outputs": [
    {
     "name": "stdout",
     "output_type": "stream",
     "text": [
      "Domestic Shorthair Mix      23423\n",
      "Pit Bull Mix                 6256\n",
      "Chihuahua Shorthair Mix      4831\n",
      "Labrador Retriever Mix       4789\n",
      "Domestic Medium Hair Mix     2326\n",
      "Name: breed, dtype: int64\n"
     ]
    }
   ],
   "source": [
    "print(outcome_df.breed.value_counts().head())\n",
    "threshold = 100\n",
    "outcome_df['adjusted_breed'] = outcome_df.breed\n",
    "breed_freq = outcome_df.breed.value_counts()\n",
    "to_remove = breed_freq[breed_freq <= threshold].index\n",
    "outcome_df.adjusted_breed.replace(to_remove, 'Other_breed', inplace=True)"
   ]
  },
  {
   "cell_type": "code",
   "execution_count": 24,
   "metadata": {},
   "outputs": [
    {
     "name": "stdout",
     "output_type": "stream",
     "text": [
      "(79672, 43)\n"
     ]
    },
    {
     "data": {
      "text/html": [
       "<div>\n",
       "<style scoped>\n",
       "    .dataframe tbody tr th:only-of-type {\n",
       "        vertical-align: middle;\n",
       "    }\n",
       "\n",
       "    .dataframe tbody tr th {\n",
       "        vertical-align: top;\n",
       "    }\n",
       "\n",
       "    .dataframe thead th {\n",
       "        text-align: right;\n",
       "    }\n",
       "</style>\n",
       "<table border=\"1\" class=\"dataframe\">\n",
       "  <thead>\n",
       "    <tr style=\"text-align: right;\">\n",
       "      <th></th>\n",
       "      <th>age_upon_outcome</th>\n",
       "      <th>animal_id_outcome</th>\n",
       "      <th>date_of_birth</th>\n",
       "      <th>outcome_subtype</th>\n",
       "      <th>outcome_type</th>\n",
       "      <th>sex_upon_outcome</th>\n",
       "      <th>age_upon_outcome_days</th>\n",
       "      <th>age_upon_outcome_years</th>\n",
       "      <th>age_upon_outcome_age_group</th>\n",
       "      <th>outcome_datetime</th>\n",
       "      <th>...</th>\n",
       "      <th>intake_month</th>\n",
       "      <th>intake_year</th>\n",
       "      <th>intake_monthyear</th>\n",
       "      <th>intake_weekday</th>\n",
       "      <th>intake_hour</th>\n",
       "      <th>intake_number</th>\n",
       "      <th>time_in_shelter</th>\n",
       "      <th>time_in_shelter_days</th>\n",
       "      <th>adjusted_color</th>\n",
       "      <th>adjusted_breed</th>\n",
       "    </tr>\n",
       "  </thead>\n",
       "  <tbody>\n",
       "    <tr>\n",
       "      <th>0</th>\n",
       "      <td>10 years</td>\n",
       "      <td>A006100</td>\n",
       "      <td>2007-07-09 00:00:00</td>\n",
       "      <td>NaN</td>\n",
       "      <td>Return to Owner</td>\n",
       "      <td>Neutered Male</td>\n",
       "      <td>3650</td>\n",
       "      <td>10.0</td>\n",
       "      <td>(7.5, 10.0]</td>\n",
       "      <td>2017-12-07 14:07:00</td>\n",
       "      <td>...</td>\n",
       "      <td>12</td>\n",
       "      <td>2017</td>\n",
       "      <td>2017-12</td>\n",
       "      <td>Thursday</td>\n",
       "      <td>14</td>\n",
       "      <td>1.0</td>\n",
       "      <td>0 days 14:07:00.000000000</td>\n",
       "      <td>0.588194</td>\n",
       "      <td>Other_color</td>\n",
       "      <td>Other_breed</td>\n",
       "    </tr>\n",
       "    <tr>\n",
       "      <th>1</th>\n",
       "      <td>7 years</td>\n",
       "      <td>A006100</td>\n",
       "      <td>2007-07-09 00:00:00</td>\n",
       "      <td>NaN</td>\n",
       "      <td>Return to Owner</td>\n",
       "      <td>Neutered Male</td>\n",
       "      <td>2555</td>\n",
       "      <td>7.0</td>\n",
       "      <td>(5.0, 7.5]</td>\n",
       "      <td>2014-12-20 16:35:00</td>\n",
       "      <td>...</td>\n",
       "      <td>12</td>\n",
       "      <td>2014</td>\n",
       "      <td>2014-12</td>\n",
       "      <td>Friday</td>\n",
       "      <td>10</td>\n",
       "      <td>2.0</td>\n",
       "      <td>1 days 06:14:00.000000000</td>\n",
       "      <td>1.259722</td>\n",
       "      <td>Other_color</td>\n",
       "      <td>Other_breed</td>\n",
       "    </tr>\n",
       "    <tr>\n",
       "      <th>2</th>\n",
       "      <td>6 years</td>\n",
       "      <td>A006100</td>\n",
       "      <td>2007-07-09 00:00:00</td>\n",
       "      <td>NaN</td>\n",
       "      <td>Return to Owner</td>\n",
       "      <td>Neutered Male</td>\n",
       "      <td>2190</td>\n",
       "      <td>6.0</td>\n",
       "      <td>(5.0, 7.5]</td>\n",
       "      <td>2014-03-08 17:10:00</td>\n",
       "      <td>...</td>\n",
       "      <td>3</td>\n",
       "      <td>2014</td>\n",
       "      <td>2014-03</td>\n",
       "      <td>Friday</td>\n",
       "      <td>14</td>\n",
       "      <td>3.0</td>\n",
       "      <td>1 days 02:44:00.000000000</td>\n",
       "      <td>1.113889</td>\n",
       "      <td>Other_color</td>\n",
       "      <td>Other_breed</td>\n",
       "    </tr>\n",
       "    <tr>\n",
       "      <th>3</th>\n",
       "      <td>10 years</td>\n",
       "      <td>A047759</td>\n",
       "      <td>2004-04-02 00:00:00</td>\n",
       "      <td>Partner</td>\n",
       "      <td>Transfer</td>\n",
       "      <td>Neutered Male</td>\n",
       "      <td>3650</td>\n",
       "      <td>10.0</td>\n",
       "      <td>(7.5, 10.0]</td>\n",
       "      <td>2014-04-07 15:12:00</td>\n",
       "      <td>...</td>\n",
       "      <td>4</td>\n",
       "      <td>2014</td>\n",
       "      <td>2014-04</td>\n",
       "      <td>Wednesday</td>\n",
       "      <td>15</td>\n",
       "      <td>1.0</td>\n",
       "      <td>4 days 23:17:00.000000000</td>\n",
       "      <td>4.970139</td>\n",
       "      <td>Tricolor</td>\n",
       "      <td>Dachshund</td>\n",
       "    </tr>\n",
       "    <tr>\n",
       "      <th>4</th>\n",
       "      <td>16 years</td>\n",
       "      <td>A134067</td>\n",
       "      <td>1997-10-16 00:00:00</td>\n",
       "      <td>NaN</td>\n",
       "      <td>Return to Owner</td>\n",
       "      <td>Neutered Male</td>\n",
       "      <td>5840</td>\n",
       "      <td>16.0</td>\n",
       "      <td>(15.0, 17.5]</td>\n",
       "      <td>2013-11-16 11:54:00</td>\n",
       "      <td>...</td>\n",
       "      <td>11</td>\n",
       "      <td>2013</td>\n",
       "      <td>2013-11</td>\n",
       "      <td>Saturday</td>\n",
       "      <td>9</td>\n",
       "      <td>1.0</td>\n",
       "      <td>0 days 02:52:00.000000000</td>\n",
       "      <td>0.119444</td>\n",
       "      <td>Brown/White</td>\n",
       "      <td>Other_breed</td>\n",
       "    </tr>\n",
       "  </tbody>\n",
       "</table>\n",
       "<p>5 rows × 43 columns</p>\n",
       "</div>"
      ],
      "text/plain": [
       "  age_upon_outcome animal_id_outcome        date_of_birth outcome_subtype  \\\n",
       "0         10 years           A006100  2007-07-09 00:00:00             NaN   \n",
       "1          7 years           A006100  2007-07-09 00:00:00             NaN   \n",
       "2          6 years           A006100  2007-07-09 00:00:00             NaN   \n",
       "3         10 years           A047759  2004-04-02 00:00:00         Partner   \n",
       "4         16 years           A134067  1997-10-16 00:00:00             NaN   \n",
       "\n",
       "      outcome_type sex_upon_outcome  age_upon_outcome_days  \\\n",
       "0  Return to Owner    Neutered Male                   3650   \n",
       "1  Return to Owner    Neutered Male                   2555   \n",
       "2  Return to Owner    Neutered Male                   2190   \n",
       "3         Transfer    Neutered Male                   3650   \n",
       "4  Return to Owner    Neutered Male                   5840   \n",
       "\n",
       "   age_upon_outcome_years age_upon_outcome_age_group     outcome_datetime  \\\n",
       "0                    10.0                (7.5, 10.0]  2017-12-07 14:07:00   \n",
       "1                     7.0                 (5.0, 7.5]  2014-12-20 16:35:00   \n",
       "2                     6.0                 (5.0, 7.5]  2014-03-08 17:10:00   \n",
       "3                    10.0                (7.5, 10.0]  2014-04-07 15:12:00   \n",
       "4                    16.0               (15.0, 17.5]  2013-11-16 11:54:00   \n",
       "\n",
       "       ...        intake_month  intake_year intake_monthyear intake_weekday  \\\n",
       "0      ...                  12         2017          2017-12       Thursday   \n",
       "1      ...                  12         2014          2014-12         Friday   \n",
       "2      ...                   3         2014          2014-03         Friday   \n",
       "3      ...                   4         2014          2014-04      Wednesday   \n",
       "4      ...                  11         2013          2013-11       Saturday   \n",
       "\n",
       "   intake_hour  intake_number            time_in_shelter  \\\n",
       "0           14            1.0  0 days 14:07:00.000000000   \n",
       "1           10            2.0  1 days 06:14:00.000000000   \n",
       "2           14            3.0  1 days 02:44:00.000000000   \n",
       "3           15            1.0  4 days 23:17:00.000000000   \n",
       "4            9            1.0  0 days 02:52:00.000000000   \n",
       "\n",
       "   time_in_shelter_days adjusted_color adjusted_breed  \n",
       "0              0.588194    Other_color    Other_breed  \n",
       "1              1.259722    Other_color    Other_breed  \n",
       "2              1.113889    Other_color    Other_breed  \n",
       "3              4.970139       Tricolor      Dachshund  \n",
       "4              0.119444    Brown/White    Other_breed  \n",
       "\n",
       "[5 rows x 43 columns]"
      ]
     },
     "execution_count": 24,
     "metadata": {},
     "output_type": "execute_result"
    }
   ],
   "source": [
    "print(outcome_df.shape)\n",
    "outcome_df.head()"
   ]
  },
  {
   "cell_type": "code",
   "execution_count": 25,
   "metadata": {},
   "outputs": [
    {
     "data": {
      "text/plain": [
       "A721033    13\n",
       "A718223    11\n",
       "A706536    11\n",
       "A716018     9\n",
       "A616444     8\n",
       "Name: animal_id_intake, dtype: int64"
      ]
     },
     "execution_count": 25,
     "metadata": {},
     "output_type": "execute_result"
    }
   ],
   "source": [
    "names.animal_id_intake.value_counts().head()"
   ]
  },
  {
   "cell_type": "code",
   "execution_count": 26,
   "metadata": {},
   "outputs": [
    {
     "data": {
      "text/plain": [
       "(79672, 43)"
      ]
     },
     "execution_count": 26,
     "metadata": {},
     "output_type": "execute_result"
    }
   ],
   "source": [
    "outcome_df.shape"
   ]
  },
  {
   "cell_type": "code",
   "execution_count": 27,
   "metadata": {},
   "outputs": [
    {
     "data": {
      "text/plain": [
       "0    A006100\n",
       "1    A006100\n",
       "2    A006100\n",
       "3    A047759\n",
       "4    A134067\n",
       "Name: animal_id_intake, dtype: object"
      ]
     },
     "execution_count": 27,
     "metadata": {},
     "output_type": "execute_result"
    }
   ],
   "source": [
    "outcome_df.animal_id_intake.head()"
   ]
  },
  {
   "cell_type": "code",
   "execution_count": 28,
   "metadata": {},
   "outputs": [],
   "source": [
    "outcome_df = outcome_df.merge(names.drop_duplicates(), on='animal_id_intake', how='inner')"
   ]
  },
  {
   "cell_type": "code",
   "execution_count": 29,
   "metadata": {},
   "outputs": [
    {
     "data": {
      "text/plain": [
       "(79672, 44)"
      ]
     },
     "execution_count": 29,
     "metadata": {},
     "output_type": "execute_result"
    }
   ],
   "source": [
    "outcome_df.shape"
   ]
  },
  {
   "cell_type": "code",
   "execution_count": 30,
   "metadata": {},
   "outputs": [],
   "source": [
    "mask = (outcome_df.outcome_type.isin(['Adoption', 'Transfer', 'Return to Owner', 'Euthanasia']))\n",
    "df_main_outcomes = outcome_df[mask]"
   ]
  },
  {
   "cell_type": "code",
   "execution_count": 31,
   "metadata": {},
   "outputs": [
    {
     "data": {
      "text/plain": [
       "(78428, 44)"
      ]
     },
     "execution_count": 31,
     "metadata": {},
     "output_type": "execute_result"
    }
   ],
   "source": [
    "df_main_outcomes.shape"
   ]
  },
  {
   "cell_type": "code",
   "execution_count": 32,
   "metadata": {},
   "outputs": [],
   "source": [
    "species_mask = df_main_outcomes.animal_type.isin(['Dog', 'Cat'])\n",
    "df_catdog = df_main_outcomes[species_mask]"
   ]
  },
  {
   "cell_type": "code",
   "execution_count": 33,
   "metadata": {},
   "outputs": [
    {
     "data": {
      "text/plain": [
       "(74109, 44)"
      ]
     },
     "execution_count": 33,
     "metadata": {},
     "output_type": "execute_result"
    }
   ],
   "source": [
    "df_catdog.shape"
   ]
  },
  {
   "cell_type": "code",
   "execution_count": 34,
   "metadata": {},
   "outputs": [
    {
     "data": {
      "text/html": [
       "<div>\n",
       "<style scoped>\n",
       "    .dataframe tbody tr th:only-of-type {\n",
       "        vertical-align: middle;\n",
       "    }\n",
       "\n",
       "    .dataframe tbody tr th {\n",
       "        vertical-align: top;\n",
       "    }\n",
       "\n",
       "    .dataframe thead th {\n",
       "        text-align: right;\n",
       "    }\n",
       "</style>\n",
       "<table border=\"1\" class=\"dataframe\">\n",
       "  <thead>\n",
       "    <tr style=\"text-align: right;\">\n",
       "      <th></th>\n",
       "      <th>age_upon_outcome</th>\n",
       "      <th>animal_id_outcome</th>\n",
       "      <th>date_of_birth</th>\n",
       "      <th>outcome_subtype</th>\n",
       "      <th>outcome_type</th>\n",
       "      <th>sex_upon_outcome</th>\n",
       "      <th>age_upon_outcome_days</th>\n",
       "      <th>age_upon_outcome_years</th>\n",
       "      <th>age_upon_outcome_age_group</th>\n",
       "      <th>outcome_datetime</th>\n",
       "      <th>...</th>\n",
       "      <th>intake_year</th>\n",
       "      <th>intake_monthyear</th>\n",
       "      <th>intake_weekday</th>\n",
       "      <th>intake_hour</th>\n",
       "      <th>intake_number</th>\n",
       "      <th>time_in_shelter</th>\n",
       "      <th>time_in_shelter_days</th>\n",
       "      <th>adjusted_color</th>\n",
       "      <th>adjusted_breed</th>\n",
       "      <th>has_name</th>\n",
       "    </tr>\n",
       "  </thead>\n",
       "  <tbody>\n",
       "    <tr>\n",
       "      <th>0</th>\n",
       "      <td>10 years</td>\n",
       "      <td>A006100</td>\n",
       "      <td>2007-07-09 00:00:00</td>\n",
       "      <td>NaN</td>\n",
       "      <td>Return to Owner</td>\n",
       "      <td>Neutered Male</td>\n",
       "      <td>3650</td>\n",
       "      <td>10.0</td>\n",
       "      <td>(7.5, 10.0]</td>\n",
       "      <td>2017-12-07 14:07:00</td>\n",
       "      <td>...</td>\n",
       "      <td>2017</td>\n",
       "      <td>2017-12</td>\n",
       "      <td>Thursday</td>\n",
       "      <td>14</td>\n",
       "      <td>1.0</td>\n",
       "      <td>0 days 14:07:00.000000000</td>\n",
       "      <td>0.588194</td>\n",
       "      <td>Other_color</td>\n",
       "      <td>Other_breed</td>\n",
       "      <td>1</td>\n",
       "    </tr>\n",
       "    <tr>\n",
       "      <th>1</th>\n",
       "      <td>7 years</td>\n",
       "      <td>A006100</td>\n",
       "      <td>2007-07-09 00:00:00</td>\n",
       "      <td>NaN</td>\n",
       "      <td>Return to Owner</td>\n",
       "      <td>Neutered Male</td>\n",
       "      <td>2555</td>\n",
       "      <td>7.0</td>\n",
       "      <td>(5.0, 7.5]</td>\n",
       "      <td>2014-12-20 16:35:00</td>\n",
       "      <td>...</td>\n",
       "      <td>2014</td>\n",
       "      <td>2014-12</td>\n",
       "      <td>Friday</td>\n",
       "      <td>10</td>\n",
       "      <td>2.0</td>\n",
       "      <td>1 days 06:14:00.000000000</td>\n",
       "      <td>1.259722</td>\n",
       "      <td>Other_color</td>\n",
       "      <td>Other_breed</td>\n",
       "      <td>1</td>\n",
       "    </tr>\n",
       "    <tr>\n",
       "      <th>2</th>\n",
       "      <td>6 years</td>\n",
       "      <td>A006100</td>\n",
       "      <td>2007-07-09 00:00:00</td>\n",
       "      <td>NaN</td>\n",
       "      <td>Return to Owner</td>\n",
       "      <td>Neutered Male</td>\n",
       "      <td>2190</td>\n",
       "      <td>6.0</td>\n",
       "      <td>(5.0, 7.5]</td>\n",
       "      <td>2014-03-08 17:10:00</td>\n",
       "      <td>...</td>\n",
       "      <td>2014</td>\n",
       "      <td>2014-03</td>\n",
       "      <td>Friday</td>\n",
       "      <td>14</td>\n",
       "      <td>3.0</td>\n",
       "      <td>1 days 02:44:00.000000000</td>\n",
       "      <td>1.113889</td>\n",
       "      <td>Other_color</td>\n",
       "      <td>Other_breed</td>\n",
       "      <td>1</td>\n",
       "    </tr>\n",
       "    <tr>\n",
       "      <th>3</th>\n",
       "      <td>10 years</td>\n",
       "      <td>A047759</td>\n",
       "      <td>2004-04-02 00:00:00</td>\n",
       "      <td>Partner</td>\n",
       "      <td>Transfer</td>\n",
       "      <td>Neutered Male</td>\n",
       "      <td>3650</td>\n",
       "      <td>10.0</td>\n",
       "      <td>(7.5, 10.0]</td>\n",
       "      <td>2014-04-07 15:12:00</td>\n",
       "      <td>...</td>\n",
       "      <td>2014</td>\n",
       "      <td>2014-04</td>\n",
       "      <td>Wednesday</td>\n",
       "      <td>15</td>\n",
       "      <td>1.0</td>\n",
       "      <td>4 days 23:17:00.000000000</td>\n",
       "      <td>4.970139</td>\n",
       "      <td>Tricolor</td>\n",
       "      <td>Dachshund</td>\n",
       "      <td>1</td>\n",
       "    </tr>\n",
       "    <tr>\n",
       "      <th>4</th>\n",
       "      <td>16 years</td>\n",
       "      <td>A134067</td>\n",
       "      <td>1997-10-16 00:00:00</td>\n",
       "      <td>NaN</td>\n",
       "      <td>Return to Owner</td>\n",
       "      <td>Neutered Male</td>\n",
       "      <td>5840</td>\n",
       "      <td>16.0</td>\n",
       "      <td>(15.0, 17.5]</td>\n",
       "      <td>2013-11-16 11:54:00</td>\n",
       "      <td>...</td>\n",
       "      <td>2013</td>\n",
       "      <td>2013-11</td>\n",
       "      <td>Saturday</td>\n",
       "      <td>9</td>\n",
       "      <td>1.0</td>\n",
       "      <td>0 days 02:52:00.000000000</td>\n",
       "      <td>0.119444</td>\n",
       "      <td>Brown/White</td>\n",
       "      <td>Other_breed</td>\n",
       "      <td>1</td>\n",
       "    </tr>\n",
       "  </tbody>\n",
       "</table>\n",
       "<p>5 rows × 44 columns</p>\n",
       "</div>"
      ],
      "text/plain": [
       "  age_upon_outcome animal_id_outcome        date_of_birth outcome_subtype  \\\n",
       "0         10 years           A006100  2007-07-09 00:00:00             NaN   \n",
       "1          7 years           A006100  2007-07-09 00:00:00             NaN   \n",
       "2          6 years           A006100  2007-07-09 00:00:00             NaN   \n",
       "3         10 years           A047759  2004-04-02 00:00:00         Partner   \n",
       "4         16 years           A134067  1997-10-16 00:00:00             NaN   \n",
       "\n",
       "      outcome_type sex_upon_outcome  age_upon_outcome_days  \\\n",
       "0  Return to Owner    Neutered Male                   3650   \n",
       "1  Return to Owner    Neutered Male                   2555   \n",
       "2  Return to Owner    Neutered Male                   2190   \n",
       "3         Transfer    Neutered Male                   3650   \n",
       "4  Return to Owner    Neutered Male                   5840   \n",
       "\n",
       "   age_upon_outcome_years age_upon_outcome_age_group     outcome_datetime  \\\n",
       "0                    10.0                (7.5, 10.0]  2017-12-07 14:07:00   \n",
       "1                     7.0                 (5.0, 7.5]  2014-12-20 16:35:00   \n",
       "2                     6.0                 (5.0, 7.5]  2014-03-08 17:10:00   \n",
       "3                    10.0                (7.5, 10.0]  2014-04-07 15:12:00   \n",
       "4                    16.0               (15.0, 17.5]  2013-11-16 11:54:00   \n",
       "\n",
       "    ...     intake_year  intake_monthyear intake_weekday intake_hour  \\\n",
       "0   ...            2017           2017-12       Thursday          14   \n",
       "1   ...            2014           2014-12         Friday          10   \n",
       "2   ...            2014           2014-03         Friday          14   \n",
       "3   ...            2014           2014-04      Wednesday          15   \n",
       "4   ...            2013           2013-11       Saturday           9   \n",
       "\n",
       "   intake_number            time_in_shelter  time_in_shelter_days  \\\n",
       "0            1.0  0 days 14:07:00.000000000              0.588194   \n",
       "1            2.0  1 days 06:14:00.000000000              1.259722   \n",
       "2            3.0  1 days 02:44:00.000000000              1.113889   \n",
       "3            1.0  4 days 23:17:00.000000000              4.970139   \n",
       "4            1.0  0 days 02:52:00.000000000              0.119444   \n",
       "\n",
       "   adjusted_color adjusted_breed has_name  \n",
       "0     Other_color    Other_breed        1  \n",
       "1     Other_color    Other_breed        1  \n",
       "2     Other_color    Other_breed        1  \n",
       "3        Tricolor      Dachshund        1  \n",
       "4     Brown/White    Other_breed        1  \n",
       "\n",
       "[5 rows x 44 columns]"
      ]
     },
     "execution_count": 34,
     "metadata": {},
     "output_type": "execute_result"
    }
   ],
   "source": [
    "df_catdog.head()"
   ]
  },
  {
   "cell_type": "code",
   "execution_count": 35,
   "metadata": {},
   "outputs": [
    {
     "name": "stdout",
     "output_type": "stream",
     "text": [
      "Normal      66454\n",
      "Injured      3185\n",
      "Sick         2090\n",
      "Nursing      1793\n",
      "Aged          309\n",
      "Other         141\n",
      "Feral          91\n",
      "Pregnant       46\n",
      "Name: intake_condition, dtype: int64\n"
     ]
    },
    {
     "data": {
      "text/plain": [
       "(74109, 1)"
      ]
     },
     "execution_count": 35,
     "metadata": {},
     "output_type": "execute_result"
    }
   ],
   "source": [
    "print(df_catdog.intake_condition.value_counts())\n",
    "intake_status = pd.DataFrame(np.where(df_catdog.intake_condition == 'Normal', 0, 1))\n",
    "intake_status.columns = ['intake_sick']\n",
    "intake_status.shape"
   ]
  },
  {
   "cell_type": "code",
   "execution_count": 36,
   "metadata": {},
   "outputs": [],
   "source": [
    "intake_sex = pd.get_dummies(df_catdog.sex_upon_intake)\n",
    "intake_sex.columns = ['intact_female', 'intact_male', 'neutered_male', 'spayed_female', 'sex_unknown']"
   ]
  },
  {
   "cell_type": "code",
   "execution_count": 37,
   "metadata": {},
   "outputs": [],
   "source": [
    "is_intact = pd.DataFrame(np.where(df_catdog.sex_upon_intake.str.contains(\"Intact\"), 1, 0))\n",
    "is_intact.columns = ['is_intact']"
   ]
  },
  {
   "cell_type": "code",
   "execution_count": 38,
   "metadata": {},
   "outputs": [
    {
     "data": {
      "text/plain": [
       "(74109, 1)"
      ]
     },
     "execution_count": 38,
     "metadata": {},
     "output_type": "execute_result"
    }
   ],
   "source": [
    "is_intact.shape"
   ]
  },
  {
   "cell_type": "code",
   "execution_count": 39,
   "metadata": {},
   "outputs": [],
   "source": [
    "happy = pd.DataFrame(np.where(df_catdog.outcome_type.isin(['Adoption', 'Return to Owner']), 1, 0))\n",
    "happy.columns = ['happy_outcome']"
   ]
  },
  {
   "cell_type": "code",
   "execution_count": 40,
   "metadata": {},
   "outputs": [
    {
     "data": {
      "text/plain": [
       "(74109, 1)"
      ]
     },
     "execution_count": 40,
     "metadata": {},
     "output_type": "execute_result"
    }
   ],
   "source": [
    "happy.shape"
   ]
  },
  {
   "cell_type": "code",
   "execution_count": 41,
   "metadata": {},
   "outputs": [],
   "source": [
    "outcome_classes = pd.factorize(df_catdog.outcome_type)\n",
    "outcome = pd.DataFrame(list(outcome_classes[0]))\n",
    "outcome.columns = ['outcome_class']"
   ]
  },
  {
   "cell_type": "code",
   "execution_count": 42,
   "metadata": {},
   "outputs": [],
   "source": [
    "is_dog = pd.DataFrame(np.where(df_catdog.animal_type == 'Dog', 1, 0))\n",
    "is_dog.columns = ['dog']"
   ]
  },
  {
   "cell_type": "code",
   "execution_count": 43,
   "metadata": {},
   "outputs": [
    {
     "data": {
      "text/plain": [
       "(74109, 1)"
      ]
     },
     "execution_count": 43,
     "metadata": {},
     "output_type": "execute_result"
    }
   ],
   "source": [
    "is_dog.shape"
   ]
  },
  {
   "cell_type": "code",
   "execution_count": 44,
   "metadata": {},
   "outputs": [
    {
     "name": "stdout",
     "output_type": "stream",
     "text": [
      "Stray                 54585\n",
      "Owner Surrender       14544\n",
      "Public Assist          4743\n",
      "Euthanasia Request      237\n",
      "Name: intake_type, dtype: int64\n"
     ]
    }
   ],
   "source": [
    "print(df_catdog.intake_type.value_counts())\n",
    "intake_type = pd.get_dummies(df_catdog.intake_type)\n",
    "intake_type.columns = ['euthanasia_request', 'owner_surrender', 'public_assist', 'stray']"
   ]
  },
  {
   "cell_type": "code",
   "execution_count": 45,
   "metadata": {},
   "outputs": [
    {
     "data": {
      "text/plain": [
       "(74109, 4)"
      ]
     },
     "execution_count": 45,
     "metadata": {},
     "output_type": "execute_result"
    }
   ],
   "source": [
    "intake_type.shape"
   ]
  },
  {
   "cell_type": "code",
   "execution_count": 46,
   "metadata": {},
   "outputs": [],
   "source": [
    "intake_date = df_catdog[['intake_month', 'intake_year', 'intake_hour']]\n",
    "intake_weekday = pd.get_dummies(df_catdog.intake_weekday)"
   ]
  },
  {
   "cell_type": "code",
   "execution_count": 47,
   "metadata": {},
   "outputs": [
    {
     "data": {
      "text/plain": [
       "(74109, 3)"
      ]
     },
     "execution_count": 47,
     "metadata": {},
     "output_type": "execute_result"
    }
   ],
   "source": [
    "intake_date.shape"
   ]
  },
  {
   "cell_type": "code",
   "execution_count": 48,
   "metadata": {},
   "outputs": [
    {
     "data": {
      "text/plain": [
       "(74109, 7)"
      ]
     },
     "execution_count": 48,
     "metadata": {},
     "output_type": "execute_result"
    }
   ],
   "source": [
    "intake_weekday.shape"
   ]
  },
  {
   "cell_type": "code",
   "execution_count": 49,
   "metadata": {},
   "outputs": [
    {
     "data": {
      "text/plain": [
       "(74109, 26)"
      ]
     },
     "execution_count": 49,
     "metadata": {},
     "output_type": "execute_result"
    }
   ],
   "source": [
    "colors = pd.get_dummies(df_catdog.adjusted_color)\n",
    "colors.shape"
   ]
  },
  {
   "cell_type": "code",
   "execution_count": 50,
   "metadata": {},
   "outputs": [
    {
     "data": {
      "text/plain": [
       "(74109, 72)"
      ]
     },
     "execution_count": 50,
     "metadata": {},
     "output_type": "execute_result"
    }
   ],
   "source": [
    "breeds = pd.get_dummies(df_catdog.adjusted_breed)\n",
    "breeds.shape"
   ]
  },
  {
   "cell_type": "code",
   "execution_count": 51,
   "metadata": {},
   "outputs": [
    {
     "data": {
      "text/plain": [
       "(74109, 1)"
      ]
     },
     "execution_count": 51,
     "metadata": {},
     "output_type": "execute_result"
    }
   ],
   "source": [
    "weekend_intake = pd.DataFrame(np.where(df_catdog.intake_weekday.isin(['Saturday', 'Sunday']), 1, 0))\n",
    "weekend_intake.columns = ['intake_is_weekend']\n",
    "weekend_intake.shape"
   ]
  },
  {
   "cell_type": "code",
   "execution_count": 52,
   "metadata": {},
   "outputs": [
    {
     "data": {
      "text/plain": [
       "(74109, 123)"
      ]
     },
     "execution_count": 52,
     "metadata": {},
     "output_type": "execute_result"
    }
   ],
   "source": [
    "df = intake_status.join([intake_sex, is_intact, is_dog, intake_type, intake_date, intake_weekday, weekend_intake, colors, breeds, happy, outcome])\n",
    "df.shape"
   ]
  },
  {
   "cell_type": "markdown",
   "metadata": {},
   "source": [
    "### Add in untransformed features "
   ]
  },
  {
   "cell_type": "code",
   "execution_count": 53,
   "metadata": {},
   "outputs": [],
   "source": [
    "df['has_name'] = df_catdog.has_name\n",
    "df['age_days'] = df_catdog.age_upon_intake_days"
   ]
  },
  {
   "cell_type": "code",
   "execution_count": 54,
   "metadata": {},
   "outputs": [
    {
     "data": {
      "text/plain": [
       "(74109, 125)"
      ]
     },
     "execution_count": 54,
     "metadata": {},
     "output_type": "execute_result"
    }
   ],
   "source": [
    "df.shape"
   ]
  },
  {
   "cell_type": "code",
   "execution_count": 55,
   "metadata": {},
   "outputs": [
    {
     "data": {
      "text/html": [
       "<div>\n",
       "<style scoped>\n",
       "    .dataframe tbody tr th:only-of-type {\n",
       "        vertical-align: middle;\n",
       "    }\n",
       "\n",
       "    .dataframe tbody tr th {\n",
       "        vertical-align: top;\n",
       "    }\n",
       "\n",
       "    .dataframe thead th {\n",
       "        text-align: right;\n",
       "    }\n",
       "</style>\n",
       "<table border=\"1\" class=\"dataframe\">\n",
       "  <thead>\n",
       "    <tr style=\"text-align: right;\">\n",
       "      <th></th>\n",
       "      <th>intake_sick</th>\n",
       "      <th>intact_female</th>\n",
       "      <th>intact_male</th>\n",
       "      <th>neutered_male</th>\n",
       "      <th>spayed_female</th>\n",
       "      <th>sex_unknown</th>\n",
       "      <th>is_intact</th>\n",
       "      <th>dog</th>\n",
       "      <th>euthanasia_request</th>\n",
       "      <th>owner_surrender</th>\n",
       "      <th>...</th>\n",
       "      <th>Siberian Husky</th>\n",
       "      <th>Siberian Husky Mix</th>\n",
       "      <th>Snowshoe Mix</th>\n",
       "      <th>Staffordshire Mix</th>\n",
       "      <th>Toy Poodle Mix</th>\n",
       "      <th>Yorkshire Terrier Mix</th>\n",
       "      <th>happy_outcome</th>\n",
       "      <th>outcome_class</th>\n",
       "      <th>has_name</th>\n",
       "      <th>age_days</th>\n",
       "    </tr>\n",
       "  </thead>\n",
       "  <tbody>\n",
       "    <tr>\n",
       "      <th>0</th>\n",
       "      <td>0</td>\n",
       "      <td>0.0</td>\n",
       "      <td>0.0</td>\n",
       "      <td>1.0</td>\n",
       "      <td>0.0</td>\n",
       "      <td>0.0</td>\n",
       "      <td>0</td>\n",
       "      <td>1</td>\n",
       "      <td>0.0</td>\n",
       "      <td>0.0</td>\n",
       "      <td>...</td>\n",
       "      <td>0.0</td>\n",
       "      <td>0.0</td>\n",
       "      <td>0.0</td>\n",
       "      <td>0.0</td>\n",
       "      <td>0.0</td>\n",
       "      <td>0.0</td>\n",
       "      <td>1</td>\n",
       "      <td>0</td>\n",
       "      <td>1.0</td>\n",
       "      <td>3650.0</td>\n",
       "    </tr>\n",
       "    <tr>\n",
       "      <th>1</th>\n",
       "      <td>0</td>\n",
       "      <td>0.0</td>\n",
       "      <td>0.0</td>\n",
       "      <td>1.0</td>\n",
       "      <td>0.0</td>\n",
       "      <td>0.0</td>\n",
       "      <td>0</td>\n",
       "      <td>1</td>\n",
       "      <td>0.0</td>\n",
       "      <td>0.0</td>\n",
       "      <td>...</td>\n",
       "      <td>0.0</td>\n",
       "      <td>0.0</td>\n",
       "      <td>0.0</td>\n",
       "      <td>0.0</td>\n",
       "      <td>0.0</td>\n",
       "      <td>0.0</td>\n",
       "      <td>1</td>\n",
       "      <td>0</td>\n",
       "      <td>1.0</td>\n",
       "      <td>2555.0</td>\n",
       "    </tr>\n",
       "    <tr>\n",
       "      <th>2</th>\n",
       "      <td>0</td>\n",
       "      <td>0.0</td>\n",
       "      <td>0.0</td>\n",
       "      <td>1.0</td>\n",
       "      <td>0.0</td>\n",
       "      <td>0.0</td>\n",
       "      <td>0</td>\n",
       "      <td>1</td>\n",
       "      <td>0.0</td>\n",
       "      <td>0.0</td>\n",
       "      <td>...</td>\n",
       "      <td>0.0</td>\n",
       "      <td>0.0</td>\n",
       "      <td>0.0</td>\n",
       "      <td>0.0</td>\n",
       "      <td>0.0</td>\n",
       "      <td>0.0</td>\n",
       "      <td>1</td>\n",
       "      <td>0</td>\n",
       "      <td>1.0</td>\n",
       "      <td>2190.0</td>\n",
       "    </tr>\n",
       "    <tr>\n",
       "      <th>3</th>\n",
       "      <td>0</td>\n",
       "      <td>0.0</td>\n",
       "      <td>0.0</td>\n",
       "      <td>1.0</td>\n",
       "      <td>0.0</td>\n",
       "      <td>0.0</td>\n",
       "      <td>0</td>\n",
       "      <td>1</td>\n",
       "      <td>0.0</td>\n",
       "      <td>1.0</td>\n",
       "      <td>...</td>\n",
       "      <td>0.0</td>\n",
       "      <td>0.0</td>\n",
       "      <td>0.0</td>\n",
       "      <td>0.0</td>\n",
       "      <td>0.0</td>\n",
       "      <td>0.0</td>\n",
       "      <td>0</td>\n",
       "      <td>1</td>\n",
       "      <td>1.0</td>\n",
       "      <td>3650.0</td>\n",
       "    </tr>\n",
       "    <tr>\n",
       "      <th>4</th>\n",
       "      <td>1</td>\n",
       "      <td>0.0</td>\n",
       "      <td>0.0</td>\n",
       "      <td>1.0</td>\n",
       "      <td>0.0</td>\n",
       "      <td>0.0</td>\n",
       "      <td>0</td>\n",
       "      <td>1</td>\n",
       "      <td>0.0</td>\n",
       "      <td>0.0</td>\n",
       "      <td>...</td>\n",
       "      <td>0.0</td>\n",
       "      <td>0.0</td>\n",
       "      <td>0.0</td>\n",
       "      <td>0.0</td>\n",
       "      <td>0.0</td>\n",
       "      <td>0.0</td>\n",
       "      <td>1</td>\n",
       "      <td>0</td>\n",
       "      <td>1.0</td>\n",
       "      <td>5840.0</td>\n",
       "    </tr>\n",
       "  </tbody>\n",
       "</table>\n",
       "<p>5 rows × 125 columns</p>\n",
       "</div>"
      ],
      "text/plain": [
       "   intake_sick  intact_female  intact_male  neutered_male  spayed_female  \\\n",
       "0            0            0.0          0.0            1.0            0.0   \n",
       "1            0            0.0          0.0            1.0            0.0   \n",
       "2            0            0.0          0.0            1.0            0.0   \n",
       "3            0            0.0          0.0            1.0            0.0   \n",
       "4            1            0.0          0.0            1.0            0.0   \n",
       "\n",
       "   sex_unknown  is_intact  dog  euthanasia_request  owner_surrender    ...     \\\n",
       "0          0.0          0    1                 0.0              0.0    ...      \n",
       "1          0.0          0    1                 0.0              0.0    ...      \n",
       "2          0.0          0    1                 0.0              0.0    ...      \n",
       "3          0.0          0    1                 0.0              1.0    ...      \n",
       "4          0.0          0    1                 0.0              0.0    ...      \n",
       "\n",
       "   Siberian Husky  Siberian Husky Mix  Snowshoe Mix  Staffordshire Mix  \\\n",
       "0             0.0                 0.0           0.0                0.0   \n",
       "1             0.0                 0.0           0.0                0.0   \n",
       "2             0.0                 0.0           0.0                0.0   \n",
       "3             0.0                 0.0           0.0                0.0   \n",
       "4             0.0                 0.0           0.0                0.0   \n",
       "\n",
       "   Toy Poodle Mix  Yorkshire Terrier Mix  happy_outcome  outcome_class  \\\n",
       "0             0.0                    0.0              1              0   \n",
       "1             0.0                    0.0              1              0   \n",
       "2             0.0                    0.0              1              0   \n",
       "3             0.0                    0.0              0              1   \n",
       "4             0.0                    0.0              1              0   \n",
       "\n",
       "   has_name  age_days  \n",
       "0       1.0    3650.0  \n",
       "1       1.0    2555.0  \n",
       "2       1.0    2190.0  \n",
       "3       1.0    3650.0  \n",
       "4       1.0    5840.0  \n",
       "\n",
       "[5 rows x 125 columns]"
      ]
     },
     "execution_count": 55,
     "metadata": {},
     "output_type": "execute_result"
    }
   ],
   "source": [
    "df.head()"
   ]
  },
  {
   "cell_type": "code",
   "execution_count": 56,
   "metadata": {},
   "outputs": [],
   "source": [
    "pickle.dump(df, open(\"clean_data.p\", \"wb\"))"
   ]
  }
 ],
 "metadata": {
  "kernelspec": {
   "display_name": "Python [default]",
   "language": "python",
   "name": "python3"
  },
  "language_info": {
   "codemirror_mode": {
    "name": "ipython",
    "version": 3
   },
   "file_extension": ".py",
   "mimetype": "text/x-python",
   "name": "python",
   "nbconvert_exporter": "python",
   "pygments_lexer": "ipython3",
   "version": "3.6.5"
  }
 },
 "nbformat": 4,
 "nbformat_minor": 2
}
